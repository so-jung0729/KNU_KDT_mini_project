{
 "cells": [
  {
   "attachments": {},
   "cell_type": "markdown",
   "id": "cede2e69",
   "metadata": {},
   "source": [
    "## 챗봇 만들기\n",
    "### 데이터셋 만들기"
   ]
  },
  {
   "cell_type": "code",
   "execution_count": 1,
   "id": "c5041487",
   "metadata": {},
   "outputs": [],
   "source": [
    "import pandas as pd\n",
    "import numpy as np\n",
    "import glob"
   ]
  },
  {
   "cell_type": "code",
   "execution_count": 2,
   "id": "68fe5d23",
   "metadata": {},
   "outputs": [],
   "source": [
    "def create_df(folder):\n",
    "    FILE_NAME = glob.glob(f'./data/*/{folder}/***.txt')\n",
    "    dic = {'Q':[], 'A':[]}\n",
    "    for file in FILE_NAME:\n",
    "        with open(file, 'r', encoding = 'utf-8') as f:\n",
    "            content = f.readlines()\n",
    "        post = content[0][0]\n",
    "        N = 0\n",
    "        for i in range(len(content)):\n",
    "            content[i] = content[i].replace('\\n', ' ')\n",
    "            if (i == 0) & (content[i][0] == 'A'):\n",
    "                content[i] = '-'\n",
    "            elif (i != 0) & (post == content[i][0]):\n",
    "                N += 1\n",
    "                content[i-N] += content[i]\n",
    "                post = content[i][0]\n",
    "                content[i] = '-'\n",
    "            else:\n",
    "                post = content[i][0]\n",
    "                N = 0\n",
    "\n",
    "        text = [sentence for sentence in content if (sentence[0] == 'A') or (sentence[0] == 'B')]\n",
    "        if text[-1][0] == 'B':\n",
    "            text = text[:-3]\n",
    "        elif text[-1][0] == 'A':\n",
    "            text = text[:-2]\n",
    "\n",
    "        for sentence in text:\n",
    "            if sentence[0] == 'B':\n",
    "                dic['Q'].append(sentence)\n",
    "            elif sentence[0] == 'A':\n",
    "                dic['A'].append(sentence)\n",
    "    return pd.DataFrame(dic)"
   ]
  },
  {
   "cell_type": "markdown",
   "id": "29f6c8ab",
   "metadata": {},
   "source": [
    "- 01.숙박\n",
    "- 02.교통\n",
    "- 03.식당\n",
    "- 04.레저\n",
    "- 05.관광"
   ]
  },
  {
   "cell_type": "code",
   "execution_count": 3,
   "id": "cb4d28ca",
   "metadata": {},
   "outputs": [],
   "source": [
    "folder_list = ['01.숙박', '02.교통', '03.식당', '04.레저', '05.관광']"
   ]
  },
  {
   "cell_type": "code",
   "execution_count": 5,
   "id": "c8bbd5e1",
   "metadata": {},
   "outputs": [
    {
     "name": "stdout",
     "output_type": "stream",
     "text": [
      "01.숙박 1\n",
      "02.교통 2\n",
      "03.식당 3\n",
      "04.레저 4\n",
      "05.관광 5\n"
     ]
    }
   ],
   "source": [
    "DF = pd.DataFrame({'Q':[], 'A':[], 'label':[]})\n",
    "for folder in folder_list:\n",
    "    print(folder, folder[1])\n",
    "    df = create_df(folder)\n",
    "    df['label'] = int(folder[1])\n",
    "    DF = pd.concat([DF, df])"
   ]
  },
  {
   "cell_type": "code",
   "execution_count": 6,
   "id": "ed5bddb5",
   "metadata": {},
   "outputs": [
    {
     "name": "stderr",
     "output_type": "stream",
     "text": [
      "C:\\Users\\user\\AppData\\Local\\Temp\\ipykernel_12560\\3924870456.py:1: FutureWarning: The default value of regex will change from True to False in a future version.\n",
      "  DF.Q = DF.Q.str.replace('B.', '')\n",
      "C:\\Users\\user\\AppData\\Local\\Temp\\ipykernel_12560\\3924870456.py:2: FutureWarning: The default value of regex will change from True to False in a future version.\n",
      "  DF.A = DF.A.str.replace('A.', '')\n"
     ]
    }
   ],
   "source": [
    "DF.Q = DF.Q.str.replace('B.', '')\n",
    "DF.A = DF.A.str.replace('A.', '')"
   ]
  },
  {
   "cell_type": "code",
   "execution_count": 7,
   "id": "37e38b18",
   "metadata": {},
   "outputs": [
    {
     "data": {
      "text/html": [
       "<div>\n",
       "<style scoped>\n",
       "    .dataframe tbody tr th:only-of-type {\n",
       "        vertical-align: middle;\n",
       "    }\n",
       "\n",
       "    .dataframe tbody tr th {\n",
       "        vertical-align: top;\n",
       "    }\n",
       "\n",
       "    .dataframe thead th {\n",
       "        text-align: right;\n",
       "    }\n",
       "</style>\n",
       "<table border=\"1\" class=\"dataframe\">\n",
       "  <thead>\n",
       "    <tr style=\"text-align: right;\">\n",
       "      <th></th>\n",
       "      <th>Q</th>\n",
       "      <th>A</th>\n",
       "      <th>label</th>\n",
       "    </tr>\n",
       "  </thead>\n",
       "  <tbody>\n",
       "    <tr>\n",
       "      <th>0</th>\n",
       "      <td>네 침구 추가를 해야 할 것 같아서요</td>\n",
       "      <td>네 1세트가 필요하신 건가요</td>\n",
       "      <td>1.0</td>\n",
       "    </tr>\n",
       "    <tr>\n",
       "      <th>1</th>\n",
       "      <td>네 맞습니다 추가 요금은 얼마인가요</td>\n",
       "      <td>네 1만 원이시고요 투숙기간 과는 무관합니다</td>\n",
       "      <td>1.0</td>\n",
       "    </tr>\n",
       "    <tr>\n",
       "      <th>2</th>\n",
       "      <td>네 알겠습니다 침구문의는 어디다 말씀드려야 할까요</td>\n",
       "      <td>네 프론트에다가 사전에 말씀 부탁 드릴게요</td>\n",
       "      <td>1.0</td>\n",
       "    </tr>\n",
       "    <tr>\n",
       "      <th>3</th>\n",
       "      <td>네 예약하려면 어떻게 해야 하나요</td>\n",
       "      <td>네 회원 가입 후 로그인 하셔서 예약하시면 되세요</td>\n",
       "      <td>1.0</td>\n",
       "    </tr>\n",
       "    <tr>\n",
       "      <th>4</th>\n",
       "      <td>네 알겠습니다 객실엔 세면 도구가 있나요</td>\n",
       "      <td>네 타월과 욕실 용품은 있지만 개인 용품은 챙겨오셔야 합니다</td>\n",
       "      <td>1.0</td>\n",
       "    </tr>\n",
       "    <tr>\n",
       "      <th>...</th>\n",
       "      <td>...</td>\n",
       "      <td>...</td>\n",
       "      <td>...</td>\n",
       "    </tr>\n",
       "    <tr>\n",
       "      <th>9436</th>\n",
       "      <td>안녕하세요 여행 계획하는데 궁금한 게 있어 전화드려요</td>\n",
       "      <td>네 고객님 어떤 사항 궁금하실까요</td>\n",
       "      <td>5.0</td>\n",
       "    </tr>\n",
       "    <tr>\n",
       "      <th>9437</th>\n",
       "      <td>인터넷에서 해안을 따라 기차를 타는 사진을 봤는데요 부산인 것 같아서요 혹시 알고 ...</td>\n",
       "      <td>네 고객님 설명만으로는 아마도 해운대 블루라인파크 같아요</td>\n",
       "      <td>5.0</td>\n",
       "    </tr>\n",
       "    <tr>\n",
       "      <th>9438</th>\n",
       "      <td>해운대 블루라인파크에 대해 알려주실 수 있나요</td>\n",
       "      <td>해운대 미포 청사포 송정에 이르는 철도 시설이에요</td>\n",
       "      <td>5.0</td>\n",
       "    </tr>\n",
       "    <tr>\n",
       "      <th>9439</th>\n",
       "      <td>철도 시설이었군요 그럼 어떻게 이용하는 거에요</td>\n",
       "      <td>앞서 말한 세 정거장 중 편하신 정거장에서 탑승하시면 되세요</td>\n",
       "      <td>5.0</td>\n",
       "    </tr>\n",
       "    <tr>\n",
       "      <th>9440</th>\n",
       "      <td>혹시 자세히 볼 수 있는 웹사이트도 있나요</td>\n",
       "      <td>네 고객님 #@소속# 사이트에 보시면 연결링크 제공되고 있습니다</td>\n",
       "      <td>5.0</td>\n",
       "    </tr>\n",
       "  </tbody>\n",
       "</table>\n",
       "<p>34448 rows × 3 columns</p>\n",
       "</div>"
      ],
      "text/plain": [
       "                                                      Q  \\\n",
       "0                                 네 침구 추가를 해야 할 것 같아서요    \n",
       "1                                  네 맞습니다 추가 요금은 얼마인가요    \n",
       "2                          네 알겠습니다 침구문의는 어디다 말씀드려야 할까요    \n",
       "3                                   네 예약하려면 어떻게 해야 하나요    \n",
       "4                               네 알겠습니다 객실엔 세면 도구가 있나요    \n",
       "...                                                 ...   \n",
       "9436                     안녕하세요 여행 계획하는데 궁금한 게 있어 전화드려요    \n",
       "9437  인터넷에서 해안을 따라 기차를 타는 사진을 봤는데요 부산인 것 같아서요 혹시 알고 ...   \n",
       "9438                         해운대 블루라인파크에 대해 알려주실 수 있나요    \n",
       "9439                         철도 시설이었군요 그럼 어떻게 이용하는 거에요    \n",
       "9440                           혹시 자세히 볼 수 있는 웹사이트도 있나요    \n",
       "\n",
       "                                         A  label  \n",
       "0                         네 1세트가 필요하신 건가요     1.0  \n",
       "1                네 1만 원이시고요 투숙기간 과는 무관합니다     1.0  \n",
       "2                 네 프론트에다가 사전에 말씀 부탁 드릴게요     1.0  \n",
       "3             네 회원 가입 후 로그인 하셔서 예약하시면 되세요     1.0  \n",
       "4       네 타월과 욕실 용품은 있지만 개인 용품은 챙겨오셔야 합니다     1.0  \n",
       "...                                    ...    ...  \n",
       "9436                   네 고객님 어떤 사항 궁금하실까요     5.0  \n",
       "9437      네 고객님 설명만으로는 아마도 해운대 블루라인파크 같아요     5.0  \n",
       "9438          해운대 미포 청사포 송정에 이르는 철도 시설이에요     5.0  \n",
       "9439    앞서 말한 세 정거장 중 편하신 정거장에서 탑승하시면 되세요     5.0  \n",
       "9440  네 고객님 #@소속# 사이트에 보시면 연결링크 제공되고 있습니다     5.0  \n",
       "\n",
       "[34448 rows x 3 columns]"
      ]
     },
     "execution_count": 7,
     "metadata": {},
     "output_type": "execute_result"
    }
   ],
   "source": [
    "DF"
   ]
  },
  {
   "cell_type": "code",
   "execution_count": 8,
   "id": "34af473a",
   "metadata": {},
   "outputs": [],
   "source": [
    "DF.to_csv('QA_data.csv')"
   ]
  },
  {
   "cell_type": "code",
   "execution_count": null,
   "id": "659b55ee",
   "metadata": {},
   "outputs": [],
   "source": [
    "chatDF = pd.read_csv('./QA_data.csv', usecols = [1, 2, 3])\n",
    "chatDF.head()"
   ]
  },
  {
   "cell_type": "code",
   "execution_count": null,
   "id": "90bceb92",
   "metadata": {},
   "outputs": [],
   "source": [
    "with open('stop_word.txt', 'r',encoding = 'utf-8') as f:\n",
    "    stop_word = f.read().split('\\n')\n",
    "print(stop_word)"
   ]
  },
  {
   "cell_type": "code",
   "execution_count": null,
   "id": "a92e94cc",
   "metadata": {},
   "outputs": [],
   "source": [
    "def not_stopword(x):\n",
    "    sentence = ''\n",
    "    for word in x.split():\n",
    "        if word not in stop_word:\n",
    "            sentence += word + ' '\n",
    "    return sentence\n",
    "            \n",
    "\n",
    "chatDF.Q = chatDF.Q.apply(lambda x: not_stopword(x))\n",
    "chatDF.A = chatDF.A.apply(lambda x: not_stopword(x))"
   ]
  },
  {
   "cell_type": "code",
   "execution_count": null,
   "id": "4c65ebb5",
   "metadata": {},
   "outputs": [],
   "source": [
    "chatDF= chatDF[(chatDF.Q != '') & (chatDF.A != '')]\n",
    "chatDF"
   ]
  },
  {
   "cell_type": "code",
   "execution_count": null,
   "id": "cce056be",
   "metadata": {},
   "outputs": [],
   "source": [
    "# chatDF.to_csv('chat_data.csv', index=False)"
   ]
  },
  {
   "cell_type": "code",
   "execution_count": null,
   "id": "c8229a28",
   "metadata": {},
   "outputs": [],
   "source": []
  },
  {
   "cell_type": "code",
   "execution_count": null,
   "id": "36471592",
   "metadata": {},
   "outputs": [],
   "source": []
  }
 ],
 "metadata": {
  "kernelspec": {
   "display_name": "Python 3 (ipykernel)",
   "language": "python",
   "name": "python3"
  },
  "language_info": {
   "codemirror_mode": {
    "name": "ipython",
    "version": 3
   },
   "file_extension": ".py",
   "mimetype": "text/x-python",
   "name": "python",
   "nbconvert_exporter": "python",
   "pygments_lexer": "ipython3",
   "version": "3.9.16"
  }
 },
 "nbformat": 4,
 "nbformat_minor": 5
}
